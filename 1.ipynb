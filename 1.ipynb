{
  "nbformat": 4,
  "nbformat_minor": 0,
  "metadata": {
    "colab": {
      "name": "1.ipynb",
      "provenance": [],
      "collapsed_sections": []
    },
    "kernelspec": {
      "name": "python3",
      "display_name": "Python 3"
    },
    "language_info": {
      "name": "python"
    }
  },
  "cells": [
    {
      "cell_type": "code",
      "source": [
        "import numpy as np\n",
        "import matplotlib.pyplot as plt\n",
        "import sklearn.metrics as metrics\n",
        "\n",
        "data = [\n",
        "        (10, 95),\n",
        "        (9, 80),\n",
        "        (2, 10),\n",
        "        (15, 50),\n",
        "        (10, 45),\n",
        "        (16, 98),\n",
        "        (11, 38),\n",
        "        (16, 93),\n",
        "]\n",
        "\n",
        "x = []\n",
        "for i in range(0, len(data)):\n",
        "    ptx = data[i][0]\n",
        "    x.append(ptx)\n",
        "\n",
        "y = []\n",
        "for i in range(0, len(data)):\n",
        "    pty = data[i][1]\n",
        "    y.append(pty)\n",
        "\n",
        "xx = []\n",
        "for i in range(0, len(x)):\n",
        "    x2 = x[i]*x[i]\n",
        "    xx.append(x2)\n",
        "\n",
        "xy = []\n",
        "for i in range(0, len(y)):\n",
        "    x2 = x[i]*y[i]\n",
        "    xy.append(x2)\n",
        "\n",
        "s_x = np.sum(x)\n",
        "s_y = np.sum(y)\n",
        "s_xx = np.sum(xx)\n",
        "s_xy = np.sum(xy)\n",
        "\n",
        "n = len(x)\n",
        "\n",
        "m = (n*s_xy - s_x*s_y)/(n*s_xx - s_x*s_x)\n",
        "b = (s_y - m*s_x)/n\n",
        "\n",
        "plt.scatter(x,y)\n",
        "plt.show()\n",
        "\n",
        "plt.clf()\n",
        "\n",
        "# plt.scatter(x,y)\n",
        "\n",
        "# x_val = range(0,17)\n",
        "# y_val = m*x_val + b\n",
        "# plt.plot(x_val,y_val,color=\"red\")\n",
        "\n",
        "# plt.show()\n",
        "# plt.clf()\n",
        "\n",
        "#Get prediction for all the datapoints\n",
        "y_pred=[]\n",
        "\n",
        "for point in data:\n",
        "    xp=point[0]\n",
        "    y_pred.append(m*xp+b)\n",
        "\n",
        "# print(y_pred)\n",
        "\n",
        "#PLot the points and regression line\n",
        "plt.scatter(x,y)\n",
        "plt.plot(x,y_pred,color=\"green\")\n",
        "plt.show()\n",
        "\n",
        "d=np.array(y)-np.array(y_pred)\n",
        "#print(d)\n",
        "mse_f = np.mean(d**2)\n",
        "mae_f = np.mean(abs(d))\n",
        "rmse_f = np.sqrt(mse_f)\n",
        "r2_f = 1-(sum(d**2)/sum((y-np.mean(y))**2))\n",
        "\n",
        "print(\"Results by manual calculation:\")\n",
        "print(\"MAE:\",mae_f)\n",
        "print(\"MSE:\", mse_f)\n",
        "print(\"RMSE:\", rmse_f)\n",
        "print(\"R-Squared:\", r2_f)\n",
        "#print(\"Accuracy_score\",acc)\n",
        "\n",
        "mae = metrics.mean_absolute_error(y, y_pred)\n",
        "mse = metrics.mean_squared_error(y, y_pred)\n",
        "rmse = np.sqrt(mse) #mse**(0.5)  \n",
        "r2 = metrics.r2_score(y,y_pred)\n",
        "\n",
        "print(\"Results of sklearn.metrics:\")\n",
        "print(\"MAE:\",mae)\n",
        "print(\"MSE:\", mse)\n",
        "print(\"RMSE:\", rmse)\n",
        "print(\"R-Squared:\", r2)"
      ],
      "metadata": {
        "colab": {
          "base_uri": "https://localhost:8080/",
          "height": 692
        },
        "id": "OOowls35SvpM",
        "outputId": "f8f47b18-bc7d-426c-fcb3-2e71c7e6fcbf"
      },
      "execution_count": 24,
      "outputs": [
        {
          "output_type": "display_data",
          "data": {
            "text/plain": [
              "<Figure size 432x288 with 1 Axes>"
            ],
            "image/png": "[encoded data removed]"
          },
          "metadata": {
            "needs_background": "light"
          }
        },
        {
          "output_type": "display_data",
          "data": {
            "text/plain": [
              "<Figure size 432x288 with 1 Axes>"
            ],
            "image/png": "[encoded data removed]"
          },
          "metadata": {
            "needs_background": "light"
          }
        },
        {
          "output_type": "stream",
          "name": "stdout",
          "text": [
            "Results by manual calculation:\n",
            "MAE: 20.41966475878986\n",
            "MSE: 518.0047015535569\n",
            "RMSE: 22.759716640449565\n",
            "R-Squared: 0.43709481451010035\n",
            "Results of sklearn.metrics:\n",
            "MAE: 20.41966475878986\n",
            "MSE: 518.0047015535569\n",
            "RMSE: 22.759716640449565\n",
            "R-Squared: 0.43709481451010035\n"
          ]
        }
      ]
    }
  ]
}