{
  "nbformat": 4,
  "nbformat_minor": 0,
  "metadata": {
    "colab": {
      "name": "1.ipynb",
      "provenance": [],
      "collapsed_sections": []
    },
    "kernelspec": {
      "name": "python3",
      "display_name": "Python 3"
    },
    "language_info": {
      "name": "python"
    }
  },
  "cells": [
    {
      "cell_type": "code",
      "execution_count": 7,
      "metadata": {
        "colab": {
          "base_uri": "https://localhost:8080/",
          "height": 957
        },
        "id": "LowdEXHOJgrP",
        "outputId": "4b99f451-6d55-4a78-9933-6e41484732cc"
      },
      "outputs": [
        {
          "output_type": "display_data",
          "data": {
            "text/plain": [
              "<Figure size 432x288 with 1 Axes>"
            ],
            "image/png": "[encoded data removed]"
          },
          "metadata": {
            "needs_background": "light"
          }
        },
        {
          "output_type": "display_data",
          "data": {
            "text/plain": [
              "<Figure size 432x288 with 1 Axes>"
            ],
            "image/png": "[encoded data removed]"
          },
          "metadata": {
            "needs_background": "light"
          }
        },
        {
          "output_type": "stream",
          "name": "stdout",
          "text": [
            "[58.46361406377759, 53.87571545380212, 21.760425183973833, 81.40310711365495, 58.46361406377759, 85.99100572363042, 63.05151267375307, 85.99100572363042]\n"
          ]
        },
        {
          "output_type": "display_data",
          "data": {
            "text/plain": [
              "<Figure size 432x288 with 1 Axes>"
            ],
            "image/png": "[encoded data removed]"
          },
          "metadata": {
            "needs_background": "light"
          }
        },
        {
          "output_type": "stream",
          "name": "stdout",
          "text": [
            "Results by manual calculation:\n",
            "MAE: 20.41966475878986\n",
            "MSE: 518.0047015535569\n",
            "RMSE: 22.759716640449565\n",
            "R-Squared: 0.43709481451010035\n",
            "Results of sklearn.metrics:\n",
            "MAE: 20.41966475878986\n",
            "MSE: 518.0047015535569\n",
            "RMSE: 22.759716640449565\n",
            "R-Squared: 0.43709481451010035\n"
          ]
        }
      ],
      "source": [
        "import numpy as np\n",
        "import matplotlib.pyplot as plt\n",
        "import sklearn.metrics as metrics\n",
        "\n",
        "data = [\n",
        "        (10, 95),\n",
        "        (9, 80),\n",
        "        (2, 10),\n",
        "        (15, 50),\n",
        "        (10, 45),\n",
        "        (16, 98),\n",
        "        (11, 38),\n",
        "        (16, 93),\n",
        "]\n",
        "\n",
        "x = []\n",
        "for i in range(0, len(data)):\n",
        "    ptx = data[i][0]\n",
        "    x.append(ptx)\n",
        "\n",
        "y = []\n",
        "for i in range(0, len(data)):\n",
        "    pty = data[i][1]\n",
        "    y.append(pty)\n",
        "\n",
        "xx = []\n",
        "for i in range(0, len(x)):\n",
        "    x2 = x[i]*x[i]\n",
        "    xx.append(x2)\n",
        "\n",
        "xy = []\n",
        "for i in range(0, len(y)):\n",
        "    x2 = x[i]*y[i]\n",
        "    xy.append(x2)\n",
        "\n",
        "s_x = np.sum(x)\n",
        "s_y = np.sum(y)\n",
        "s_xx = np.sum(xx)\n",
        "s_xy = np.sum(xy)\n",
        "\n",
        "n = len(x)\n",
        "\n",
        "m = (n*s_xy - s_x*s_y)/(n*s_xx - s_x*s_x)\n",
        "b = (s_y - m*s_x)/n\n",
        "\n",
        "plt.scatter(x,y)\n",
        "plt.show()\n",
        "\n",
        "plt.clf()\n",
        "\n",
        "plt.scatter(x,y)\n",
        "\n",
        "x_val = range(0,17)\n",
        "y_val = m*x_val + b\n",
        "plt.plot(x_val,y_val,color=\"red\")\n",
        "\n",
        "plt.show()\n",
        "plt.clf()\n",
        "\n",
        "#Get prediction for all the datapoints\n",
        "y_pred=[]\n",
        "\n",
        "for point in data:\n",
        "    xp=point[0]\n",
        "    y_pred.append(m*xp+b)\n",
        "\n",
        "print(y_pred)\n",
        "\n",
        "#PLot the points and regression line\n",
        "plt.scatter(x,y)\n",
        "plt.plot(x,y_pred,color=\"green\")\n",
        "plt.show()\n",
        "\n",
        "d=np.array(y)-np.array(y_pred)\n",
        "#print(d)\n",
        "mse_f = np.mean(d**2)\n",
        "mae_f = np.mean(abs(d))\n",
        "rmse_f = np.sqrt(mse_f)\n",
        "r2_f = 1-(sum(d**2)/sum((y-np.mean(y))**2))\n",
        "\n",
        "print(\"Results by manual calculation:\")\n",
        "print(\"MAE:\",mae_f)\n",
        "print(\"MSE:\", mse_f)\n",
        "print(\"RMSE:\", rmse_f)\n",
        "print(\"R-Squared:\", r2_f)\n",
        "#print(\"Accuracy_score\",acc)\n",
        "\n",
        "mae = metrics.mean_absolute_error(y, y_pred)\n",
        "mse = metrics.mean_squared_error(y, y_pred)\n",
        "rmse = np.sqrt(mse) #mse**(0.5)  \n",
        "r2 = metrics.r2_score(y,y_pred)\n",
        "\n",
        "print(\"Results of sklearn.metrics:\")\n",
        "print(\"MAE:\",mae)\n",
        "print(\"MSE:\", mse)\n",
        "print(\"RMSE:\", rmse)\n",
        "print(\"R-Squared:\", r2)"
      ]
    },
    {
      "cell_type": "code",
      "source": [
        "import matplotlib.pyplot as plt\n",
        "import sklearn.metrics as metrics\n",
        "import numpy as np\n",
        "\n",
        "def linear_regression(datapoints):\n",
        "\n",
        "    n=len(datapoints)\n",
        "\n",
        "    #Transfering x & y coordinates in a list\n",
        "    x_list=[d[0] for d in datapoints]\n",
        "    y_list=[d[1] for d in datapoints]\n",
        "    \n",
        "    \n",
        "    #calculate mean of x and y values\n",
        "    x_mean=np.mean(x_list)\n",
        "    y_mean=np.mean(y_list)\n",
        "\n",
        "    #take product of x vals and x*y from list to get xx_product & yy_product\n",
        "    xx_product=[x*x for x in x_list]\n",
        "    xy_product = [x_list[i] * y_list[i] for i in range(n)]\n",
        "    print(\"XX-Product initial:\",xx_product)\n",
        "    #take summation\n",
        "    xx_product=np.sum(xx_product)\n",
        "    xy_product=np.sum(xy_product)\n",
        "    \n",
        "\n",
        "    print(\"X-Mean:\",x_mean)\n",
        "    print(\"Y-Mean:\",y_mean)\n",
        "\n",
        "    print(\"XX-Product:\",xx_product)\n",
        "    print(\"XY-Product:\",xy_product)\n",
        "\n",
        "    # SS_xy = xy_prod / n*x_mean*y_mean\n",
        "    SS_xy=xy_product-n*x_mean*y_mean\n",
        "\n",
        "    # SS_xx = xx_prod / n*x_mean*x_mean\n",
        "    SS_xx=xx_product-n*x_mean*x_mean\n",
        "\n",
        "    #slope=SSxy/SSxx\n",
        "    slope=SS_xy/SS_xx\n",
        "\n",
        "    print(\"Slope:\",slope)\n",
        "\n",
        "    # intercept = y_mean - x_mean*slope\n",
        "    intercept=y_mean-x_mean*slope\n",
        "\n",
        "    print(\"Intercept:\",intercept)\n",
        "\n",
        "    print(\"Equation of line: y=\",slope,\"x+\",intercept)\n",
        "\n",
        "    return (slope,intercept)\n",
        "\n",
        "datapoints=[\n",
        "    (10,95),\n",
        "    (9,80),\n",
        "    (2,10),\n",
        "    (15,50),\n",
        "    (10,45),\n",
        "    (16,98),\n",
        "    (11,38),\n",
        "    (16,93)\n",
        "]\n",
        "\n",
        "x=[d[0] for d in datapoints]\n",
        "y=[d[1] for d in datapoints]\n",
        "\n",
        "#call function with slope and intercept of regression line being returned.\n",
        "slope,intercept=linear_regression(datapoints)\n",
        "\n",
        "#Get prediction for all the datapoints\n",
        "y_pred=[]\n",
        "\n",
        "for point in datapoints:\n",
        "    xp=point[0]\n",
        "    y_pred.append(slope*xp+intercept)\n",
        "\n",
        "print(y_pred)\n",
        "\n",
        "d=np.array(y)-np.array(y_pred)\n",
        "#print(d)\n",
        "mse_f = np.mean(d**2)\n",
        "mae_f = np.mean(abs(d))\n",
        "rmse_f = np.sqrt(mse_f)\n",
        "r2_f = 1-(sum(d**2)/sum((y-np.mean(y))**2))\n",
        "\n",
        "print(\"Results by manual calculation:\")\n",
        "print(\"MAE:\",mae_f)\n",
        "print(\"MSE:\", mse_f)\n",
        "print(\"RMSE:\", rmse_f)\n",
        "print(\"R-Squared:\", r2_f)\n",
        "#print(\"Accuracy_score\",acc)\n",
        "\n",
        "mae = metrics.mean_absolute_error(y, y_pred)\n",
        "mse = metrics.mean_squared_error(y, y_pred)\n",
        "rmse = np.sqrt(mse) #mse**(0.5)  \n",
        "r2 = metrics.r2_score(y,y_pred)\n",
        "\n",
        "plt.scatter(x,y)\n",
        "plt.show()\n",
        "print(\"Results of sklearn.metrics:\")\n",
        "print(\"MAE:\",mae)\n",
        "print(\"MSE:\", mse)\n",
        "print(\"RMSE:\", rmse)\n",
        "print(\"R-Squared:\", r2)\n",
        "\n",
        "\n",
        "#PLot the points and regression line\n",
        "plt.scatter(x,y)\n",
        "plt.plot(x,y_pred,color=\"green\")\n",
        "plt.show()"
      ],
      "metadata": {
        "colab": {
          "base_uri": "https://localhost:8080/",
          "height": 863
        },
        "id": "c31EPYZcRKVu",
        "outputId": "2c2d7942-6d2b-40df-ce82-e9fb02a2a5c6"
      },
      "execution_count": null,
      "outputs": [
        {
          "output_type": "stream",
          "name": "stdout",
          "text": [
            "XX-Product initial: [100, 81, 4, 225, 100, 256, 121, 256]\n",
            "X-Mean: 11.125\n",
            "Y-Mean: 63.625\n",
            "XX-Product: 1143\n",
            "XY-Product: 6364\n",
            "Slope: 4.58789860997547\n",
            "Intercept: 12.584627964022893\n",
            "Equation of line: y= 4.58789860997547 x+ 12.584627964022893\n",
            "[58.46361406377759, 53.87571545380212, 21.760425183973833, 81.40310711365495, 58.46361406377759, 85.99100572363042, 63.05151267375307, 85.99100572363042]\n",
            "Results by manual calculation:\n",
            "MAE: 20.41966475878986\n",
            "MSE: 518.0047015535569\n",
            "RMSE: 22.759716640449565\n",
            "R-Squared: 0.43709481451010035\n"
          ]
        },
        {
          "output_type": "display_data",
          "data": {
            "text/plain": [
              "<Figure size 432x288 with 1 Axes>"
            ],
            "image/png": "[encoded data removed]"
          },
          "metadata": {
            "needs_background": "light"
          }
        },
        {
          "output_type": "stream",
          "name": "stdout",
          "text": [
            "Results of sklearn.metrics:\n",
            "MAE: 20.41966475878986\n",
            "MSE: 518.0047015535569\n",
            "RMSE: 22.759716640449565\n",
            "R-Squared: 0.43709481451010035\n"
          ]
        },
        {
          "output_type": "display_data",
          "data": {
            "text/plain": [
              "<Figure size 432x288 with 1 Axes>"
            ],
            "image/png": "[encoded data removed]"
          },
          "metadata": {
            "needs_background": "light"
          }
        }
      ]
    }
  ]
}